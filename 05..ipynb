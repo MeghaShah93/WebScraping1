{
 "cells": [
  {
   "cell_type": "code",
   "execution_count": 1,
   "id": "9ebac558",
   "metadata": {},
   "outputs": [],
   "source": [
    "from bs4 import BeautifulSoup\n",
    "import requests"
   ]
  },
  {
   "cell_type": "markdown",
   "id": "a9009abb",
   "metadata": {},
   "source": [
    "## a) Top 10 ODI teams in men’s cricket along with the records for matches, points and rating."
   ]
  },
  {
   "cell_type": "code",
   "execution_count": 4,
   "id": "d62d330a",
   "metadata": {},
   "outputs": [
    {
     "data": {
      "text/plain": [
       "<Response [200]>"
      ]
     },
     "execution_count": 4,
     "metadata": {},
     "output_type": "execute_result"
    }
   ],
   "source": [
    "url='https://www.icc-cricket.com/rankings/mens/team-rankings/odi'\n",
    "page=requests.get(url)\n",
    "page"
   ]
  },
  {
   "cell_type": "code",
   "execution_count": 5,
   "id": "53bb8e2f",
   "metadata": {},
   "outputs": [],
   "source": [
    "soup = BeautifulSoup(page.content)\n",
    "soup2=BeautifulSoup(page.content)"
   ]
  },
  {
   "cell_type": "code",
   "execution_count": 13,
   "id": "9a95c9c7",
   "metadata": {},
   "outputs": [
    {
     "data": {
      "text/plain": [
       "['New Zealand',\n",
       " 'England',\n",
       " 'Australia',\n",
       " 'India',\n",
       " 'South Africa',\n",
       " 'Pakistan',\n",
       " 'Bangladesh',\n",
       " 'West Indies',\n",
       " 'Sri Lanka',\n",
       " 'Afghanistan']"
      ]
     },
     "execution_count": 13,
     "metadata": {},
     "output_type": "execute_result"
    }
   ],
   "source": [
    "Team=[]\n",
    "for i in soup.find_all('td',class_='rankings-block__banner--team-name'):\n",
    "    Team.append(i.find('span',class_='u-hide-phablet').text)\n",
    "num=0\n",
    "for i in soup2.find_all('td',class_='table-body__cell rankings-table__team'):\n",
    "    num+=1\n",
    "    if num>9:\n",
    "        break\n",
    "    Team.append(i.find('span',class_='u-hide-phablet').text)\n",
    "Team"
   ]
  },
  {
   "cell_type": "code",
   "execution_count": 20,
   "id": "423e148e",
   "metadata": {},
   "outputs": [
    {
     "name": "stdout",
     "output_type": "stream",
     "text": [
      "['17', '32', '28', '32', '25', '27', '30', '30', '32', '17']\n",
      "['2,054', '3,793', '3,244', '3,624', '2,459', '2,524', '2,740', '2,523', '2,657', '1,054']\n"
     ]
    }
   ],
   "source": [
    "Matches=[]\n",
    "Points=[]\n",
    "for i in soup.find_all('tr',class_='rankings-block__banner'):\n",
    "    Matches.append(i.find('td',class_='rankings-block__banner--matches').text)\n",
    "    Points.append(i.find('td',class_='rankings-block__banner--points').text)\n",
    "num=0\n",
    "for i in soup2.find_all('tr',class_='table-body'):\n",
    "    num+=1\n",
    "    if num>9:\n",
    "        break\n",
    "    Matches.append(i.find_all('td',class_='table-body__cell u-center-text')[0].text)\n",
    "    Points.append(i.find_all('td',class_='table-body__cell u-center-text')[1].text)\n",
    "print(Matches)\n",
    "print(Points)"
   ]
  },
  {
   "cell_type": "code",
   "execution_count": 24,
   "id": "679978b4",
   "metadata": {},
   "outputs": [
    {
     "data": {
      "text/plain": [
       "['121', '119', '116', '113', '98', '93', '91', '84', '83', '62']"
      ]
     },
     "execution_count": 24,
     "metadata": {},
     "output_type": "execute_result"
    }
   ],
   "source": [
    "Ranking=[]\n",
    "for i in soup.find_all('td',class_='rankings-block__banner--rating u-text-right'):\n",
    "    Ranking.append(i.text.replace('\\n','').replace(' ',''))\n",
    "num=0\n",
    "for i in soup2.find_all('td',class_='table-body__cell u-text-right rating'):\n",
    "    num+=1\n",
    "    if num>9:\n",
    "        break\n",
    "    Ranking.append(i.text)\n",
    "Ranking"
   ]
  },
  {
   "cell_type": "code",
   "execution_count": 26,
   "id": "78248ea2",
   "metadata": {},
   "outputs": [
    {
     "data": {
      "text/html": [
       "<div>\n",
       "<style scoped>\n",
       "    .dataframe tbody tr th:only-of-type {\n",
       "        vertical-align: middle;\n",
       "    }\n",
       "\n",
       "    .dataframe tbody tr th {\n",
       "        vertical-align: top;\n",
       "    }\n",
       "\n",
       "    .dataframe thead th {\n",
       "        text-align: right;\n",
       "    }\n",
       "</style>\n",
       "<table border=\"1\" class=\"dataframe\">\n",
       "  <thead>\n",
       "    <tr style=\"text-align: right;\">\n",
       "      <th></th>\n",
       "      <th>Team</th>\n",
       "      <th>Matches</th>\n",
       "      <th>Points</th>\n",
       "      <th>Ranking</th>\n",
       "    </tr>\n",
       "  </thead>\n",
       "  <tbody>\n",
       "    <tr>\n",
       "      <th>0</th>\n",
       "      <td>New Zealand</td>\n",
       "      <td>17</td>\n",
       "      <td>2,054</td>\n",
       "      <td>121</td>\n",
       "    </tr>\n",
       "    <tr>\n",
       "      <th>1</th>\n",
       "      <td>England</td>\n",
       "      <td>32</td>\n",
       "      <td>3,793</td>\n",
       "      <td>119</td>\n",
       "    </tr>\n",
       "    <tr>\n",
       "      <th>2</th>\n",
       "      <td>Australia</td>\n",
       "      <td>28</td>\n",
       "      <td>3,244</td>\n",
       "      <td>116</td>\n",
       "    </tr>\n",
       "    <tr>\n",
       "      <th>3</th>\n",
       "      <td>India</td>\n",
       "      <td>32</td>\n",
       "      <td>3,624</td>\n",
       "      <td>113</td>\n",
       "    </tr>\n",
       "    <tr>\n",
       "      <th>4</th>\n",
       "      <td>South Africa</td>\n",
       "      <td>25</td>\n",
       "      <td>2,459</td>\n",
       "      <td>98</td>\n",
       "    </tr>\n",
       "    <tr>\n",
       "      <th>5</th>\n",
       "      <td>Pakistan</td>\n",
       "      <td>27</td>\n",
       "      <td>2,524</td>\n",
       "      <td>93</td>\n",
       "    </tr>\n",
       "    <tr>\n",
       "      <th>6</th>\n",
       "      <td>Bangladesh</td>\n",
       "      <td>30</td>\n",
       "      <td>2,740</td>\n",
       "      <td>91</td>\n",
       "    </tr>\n",
       "    <tr>\n",
       "      <th>7</th>\n",
       "      <td>West Indies</td>\n",
       "      <td>30</td>\n",
       "      <td>2,523</td>\n",
       "      <td>84</td>\n",
       "    </tr>\n",
       "    <tr>\n",
       "      <th>8</th>\n",
       "      <td>Sri Lanka</td>\n",
       "      <td>32</td>\n",
       "      <td>2,657</td>\n",
       "      <td>83</td>\n",
       "    </tr>\n",
       "    <tr>\n",
       "      <th>9</th>\n",
       "      <td>Afghanistan</td>\n",
       "      <td>17</td>\n",
       "      <td>1,054</td>\n",
       "      <td>62</td>\n",
       "    </tr>\n",
       "  </tbody>\n",
       "</table>\n",
       "</div>"
      ],
      "text/plain": [
       "           Team Matches Points Ranking\n",
       "0   New Zealand      17  2,054     121\n",
       "1       England      32  3,793     119\n",
       "2     Australia      28  3,244     116\n",
       "3         India      32  3,624     113\n",
       "4  South Africa      25  2,459      98\n",
       "5      Pakistan      27  2,524      93\n",
       "6    Bangladesh      30  2,740      91\n",
       "7   West Indies      30  2,523      84\n",
       "8     Sri Lanka      32  2,657      83\n",
       "9   Afghanistan      17  1,054      62"
      ]
     },
     "execution_count": 26,
     "metadata": {},
     "output_type": "execute_result"
    }
   ],
   "source": [
    "import pandas as pd\n",
    "df=pd.DataFrame({'Team':Team,'Matches':Matches,'Points':Points,'Ranking':Ranking})\n",
    "df"
   ]
  },
  {
   "cell_type": "markdown",
   "id": "3385db29",
   "metadata": {},
   "source": [
    "## b) Top 10 ODI Batsmen along with the records of their team and rating."
   ]
  },
  {
   "cell_type": "code",
   "execution_count": 2,
   "id": "7c115ebf",
   "metadata": {},
   "outputs": [
    {
     "data": {
      "text/plain": [
       "<Response [200]>"
      ]
     },
     "execution_count": 2,
     "metadata": {},
     "output_type": "execute_result"
    }
   ],
   "source": [
    "url='https://www.icc-cricket.com/rankings/mens/player-rankings/odi/batting'\n",
    "page=requests.get(url)\n",
    "page"
   ]
  },
  {
   "cell_type": "code",
   "execution_count": 3,
   "id": "ede63ffb",
   "metadata": {},
   "outputs": [],
   "source": [
    "soup = BeautifulSoup(page.content)\n",
    "soup2=BeautifulSoup(page.content)"
   ]
  },
  {
   "cell_type": "code",
   "execution_count": 5,
   "id": "54602384",
   "metadata": {},
   "outputs": [
    {
     "data": {
      "text/plain": [
       "['Babar Azam',\n",
       " 'Virat Kohli',\n",
       " 'Rohit Sharma',\n",
       " 'Ross Taylor',\n",
       " 'Aaron Finch',\n",
       " 'Jonny Bairstow',\n",
       " 'David Warner',\n",
       " 'Shai Hope',\n",
       " 'Kane Williamson',\n",
       " 'Quinton de Kock']"
      ]
     },
     "execution_count": 5,
     "metadata": {},
     "output_type": "execute_result"
    }
   ],
   "source": [
    "Batsmen=[]\n",
    "for i in soup.find_all('div',class_='rankings-block__banner--name-large'):\n",
    "    Batsmen.append(i.text)\n",
    "num=0\n",
    "for i in soup2.find_all('td',class_='table-body__cell rankings-table__name name'):\n",
    "    num+=1\n",
    "    if num>9:\n",
    "        break\n",
    "    Batsmen.append(i.find('a').text)\n",
    "Batsmen"
   ]
  },
  {
   "cell_type": "code",
   "execution_count": 7,
   "id": "c637ed2d",
   "metadata": {},
   "outputs": [
    {
     "data": {
      "text/plain": [
       "['PAK                    ',\n",
       " 'IND',\n",
       " 'IND',\n",
       " 'NZ',\n",
       " 'AUS',\n",
       " 'ENG',\n",
       " 'AUS',\n",
       " 'WI',\n",
       " 'NZ',\n",
       " 'SA']"
      ]
     },
     "execution_count": 7,
     "metadata": {},
     "output_type": "execute_result"
    }
   ],
   "source": [
    "Team=[]\n",
    "for i in soup.find_all('div',class_='rankings-block__banner--nationality'):\n",
    "    Team.append(i.text.replace('\\n',''))\n",
    "num=0\n",
    "for i in soup2.find_all('td',class_='table-body__cell nationality-logo rankings-table__team'):\n",
    "    num+=1\n",
    "    if num>9:\n",
    "        break\n",
    "    Team.append(i.find('span',class_='table-body__logo-text').text)\n",
    "Team\n"
   ]
  },
  {
   "cell_type": "code",
   "execution_count": 8,
   "id": "645546b6",
   "metadata": {},
   "outputs": [
    {
     "data": {
      "text/plain": [
       "['873', '844', '813', '801', '779', '775', '762', '758', '754', '743']"
      ]
     },
     "execution_count": 8,
     "metadata": {},
     "output_type": "execute_result"
    }
   ],
   "source": [
    "Rating=[]\n",
    "for i in soup.find_all('div',class_='rankings-block__banner--rating'):\n",
    "    Rating.append(i.text)\n",
    "num=0\n",
    "for i in soup2.find_all('td',class_='table-body__cell rating'):\n",
    "    num+=1\n",
    "    if num>9:\n",
    "        break\n",
    "    Rating.append(i.text)\n",
    "Rating"
   ]
  },
  {
   "cell_type": "code",
   "execution_count": 9,
   "id": "804c7c82",
   "metadata": {},
   "outputs": [
    {
     "data": {
      "text/html": [
       "<div>\n",
       "<style scoped>\n",
       "    .dataframe tbody tr th:only-of-type {\n",
       "        vertical-align: middle;\n",
       "    }\n",
       "\n",
       "    .dataframe tbody tr th {\n",
       "        vertical-align: top;\n",
       "    }\n",
       "\n",
       "    .dataframe thead th {\n",
       "        text-align: right;\n",
       "    }\n",
       "</style>\n",
       "<table border=\"1\" class=\"dataframe\">\n",
       "  <thead>\n",
       "    <tr style=\"text-align: right;\">\n",
       "      <th></th>\n",
       "      <th>Batsmen</th>\n",
       "      <th>Team</th>\n",
       "      <th>Rating</th>\n",
       "    </tr>\n",
       "  </thead>\n",
       "  <tbody>\n",
       "    <tr>\n",
       "      <th>0</th>\n",
       "      <td>Babar Azam</td>\n",
       "      <td>PAK</td>\n",
       "      <td>873</td>\n",
       "    </tr>\n",
       "    <tr>\n",
       "      <th>1</th>\n",
       "      <td>Virat Kohli</td>\n",
       "      <td>IND</td>\n",
       "      <td>844</td>\n",
       "    </tr>\n",
       "    <tr>\n",
       "      <th>2</th>\n",
       "      <td>Rohit Sharma</td>\n",
       "      <td>IND</td>\n",
       "      <td>813</td>\n",
       "    </tr>\n",
       "    <tr>\n",
       "      <th>3</th>\n",
       "      <td>Ross Taylor</td>\n",
       "      <td>NZ</td>\n",
       "      <td>801</td>\n",
       "    </tr>\n",
       "    <tr>\n",
       "      <th>4</th>\n",
       "      <td>Aaron Finch</td>\n",
       "      <td>AUS</td>\n",
       "      <td>779</td>\n",
       "    </tr>\n",
       "    <tr>\n",
       "      <th>5</th>\n",
       "      <td>Jonny Bairstow</td>\n",
       "      <td>ENG</td>\n",
       "      <td>775</td>\n",
       "    </tr>\n",
       "    <tr>\n",
       "      <th>6</th>\n",
       "      <td>David Warner</td>\n",
       "      <td>AUS</td>\n",
       "      <td>762</td>\n",
       "    </tr>\n",
       "    <tr>\n",
       "      <th>7</th>\n",
       "      <td>Shai Hope</td>\n",
       "      <td>WI</td>\n",
       "      <td>758</td>\n",
       "    </tr>\n",
       "    <tr>\n",
       "      <th>8</th>\n",
       "      <td>Kane Williamson</td>\n",
       "      <td>NZ</td>\n",
       "      <td>754</td>\n",
       "    </tr>\n",
       "    <tr>\n",
       "      <th>9</th>\n",
       "      <td>Quinton de Kock</td>\n",
       "      <td>SA</td>\n",
       "      <td>743</td>\n",
       "    </tr>\n",
       "  </tbody>\n",
       "</table>\n",
       "</div>"
      ],
      "text/plain": [
       "           Batsmen                     Team Rating\n",
       "0       Babar Azam  PAK                        873\n",
       "1      Virat Kohli                      IND    844\n",
       "2     Rohit Sharma                      IND    813\n",
       "3      Ross Taylor                       NZ    801\n",
       "4      Aaron Finch                      AUS    779\n",
       "5   Jonny Bairstow                      ENG    775\n",
       "6     David Warner                      AUS    762\n",
       "7        Shai Hope                       WI    758\n",
       "8  Kane Williamson                       NZ    754\n",
       "9  Quinton de Kock                       SA    743"
      ]
     },
     "execution_count": 9,
     "metadata": {},
     "output_type": "execute_result"
    }
   ],
   "source": [
    "import pandas as pd\n",
    "df=pd.DataFrame({'Batsmen':Batsmen,'Team':Team,'Rating':Rating})\n",
    "df"
   ]
  },
  {
   "cell_type": "markdown",
   "id": "3db1927e",
   "metadata": {},
   "source": [
    "## c) Top 10 ODI bowlers along with the records of their team and rating."
   ]
  },
  {
   "cell_type": "code",
   "execution_count": 10,
   "id": "9228a932",
   "metadata": {},
   "outputs": [
    {
     "data": {
      "text/plain": [
       "<Response [200]>"
      ]
     },
     "execution_count": 10,
     "metadata": {},
     "output_type": "execute_result"
    }
   ],
   "source": [
    "url='https://www.icc-cricket.com/rankings/mens/player-rankings/odi/bowling'\n",
    "page=requests.get(url)\n",
    "page"
   ]
  },
  {
   "cell_type": "code",
   "execution_count": 11,
   "id": "e8d2ce16",
   "metadata": {},
   "outputs": [],
   "source": [
    "soup = BeautifulSoup(page.content)\n",
    "soup2=BeautifulSoup(page.content)"
   ]
  },
  {
   "cell_type": "code",
   "execution_count": 14,
   "id": "8182b337",
   "metadata": {},
   "outputs": [
    {
     "data": {
      "text/plain": [
       "['Trent Boult',\n",
       " 'Josh Hazlewood',\n",
       " 'Mujeeb Ur Rahman',\n",
       " 'Chris Woakes',\n",
       " 'Mehedi Hasan',\n",
       " 'Matt Henry',\n",
       " 'Jasprit Bumrah',\n",
       " 'Mitchell Starc',\n",
       " 'Shakib Al Hasan',\n",
       " 'Kagiso Rabada']"
      ]
     },
     "execution_count": 14,
     "metadata": {},
     "output_type": "execute_result"
    }
   ],
   "source": [
    "Bowlers=[]\n",
    "for i in soup.find_all('div',class_='rankings-block__banner--name-large'):\n",
    "    Bowlers.append(i.text)\n",
    "num=0\n",
    "for i in soup2.find_all('td',class_='table-body__cell rankings-table__name name'):\n",
    "    num+=1\n",
    "    if num>9:\n",
    "        break\n",
    "    Bowlers.append(i.find('a').text)\n",
    "Bowlers"
   ]
  },
  {
   "cell_type": "code",
   "execution_count": 17,
   "id": "4f887562",
   "metadata": {},
   "outputs": [
    {
     "data": {
      "text/plain": [
       "['NZ                    ',\n",
       " 'AUS',\n",
       " 'AFG',\n",
       " 'ENG',\n",
       " 'BAN',\n",
       " 'NZ',\n",
       " 'IND',\n",
       " 'AUS',\n",
       " 'BAN',\n",
       " 'SA']"
      ]
     },
     "execution_count": 17,
     "metadata": {},
     "output_type": "execute_result"
    }
   ],
   "source": [
    "Team=[]\n",
    "for i in soup.find_all('div',class_='rankings-block__banner--nationality'):\n",
    "    Team.append(i.text.replace('\\n',''))\n",
    "num=0\n",
    "for i in soup.find_all('td',class_='table-body__cell nationality-logo rankings-table__team'):\n",
    "    num+=1\n",
    "    if num>9:\n",
    "        break\n",
    "    Team.append(i.find('span',class_='table-body__logo-text').text)\n",
    "Team"
   ]
  },
  {
   "cell_type": "code",
   "execution_count": 22,
   "id": "8fce90d2",
   "metadata": {},
   "outputs": [
    {
     "data": {
      "text/plain": [
       "['737', '709', '708', '700', '692', '691', '679', '652', '650', '643']"
      ]
     },
     "execution_count": 22,
     "metadata": {},
     "output_type": "execute_result"
    }
   ],
   "source": [
    "Rating=[]\n",
    "for i in soup.find_all('div',class_='rankings-block__banner--rating'):\n",
    "    Rating.append(i.text)\n",
    "num=0\n",
    "for i in soup.find_all('td',class_='table-body__cell rating'):\n",
    "    num+=1\n",
    "    if num>9:\n",
    "        break\n",
    "    Rating.append(i.text)\n",
    "Rating"
   ]
  },
  {
   "cell_type": "code",
   "execution_count": 23,
   "id": "c1768635",
   "metadata": {},
   "outputs": [
    {
     "data": {
      "text/html": [
       "<div>\n",
       "<style scoped>\n",
       "    .dataframe tbody tr th:only-of-type {\n",
       "        vertical-align: middle;\n",
       "    }\n",
       "\n",
       "    .dataframe tbody tr th {\n",
       "        vertical-align: top;\n",
       "    }\n",
       "\n",
       "    .dataframe thead th {\n",
       "        text-align: right;\n",
       "    }\n",
       "</style>\n",
       "<table border=\"1\" class=\"dataframe\">\n",
       "  <thead>\n",
       "    <tr style=\"text-align: right;\">\n",
       "      <th></th>\n",
       "      <th>Bowlers</th>\n",
       "      <th>Team</th>\n",
       "      <th>Rating</th>\n",
       "    </tr>\n",
       "  </thead>\n",
       "  <tbody>\n",
       "    <tr>\n",
       "      <th>0</th>\n",
       "      <td>Trent Boult</td>\n",
       "      <td>NZ</td>\n",
       "      <td>737</td>\n",
       "    </tr>\n",
       "    <tr>\n",
       "      <th>1</th>\n",
       "      <td>Josh Hazlewood</td>\n",
       "      <td>AUS</td>\n",
       "      <td>709</td>\n",
       "    </tr>\n",
       "    <tr>\n",
       "      <th>2</th>\n",
       "      <td>Mujeeb Ur Rahman</td>\n",
       "      <td>AFG</td>\n",
       "      <td>708</td>\n",
       "    </tr>\n",
       "    <tr>\n",
       "      <th>3</th>\n",
       "      <td>Chris Woakes</td>\n",
       "      <td>ENG</td>\n",
       "      <td>700</td>\n",
       "    </tr>\n",
       "    <tr>\n",
       "      <th>4</th>\n",
       "      <td>Mehedi Hasan</td>\n",
       "      <td>BAN</td>\n",
       "      <td>692</td>\n",
       "    </tr>\n",
       "    <tr>\n",
       "      <th>5</th>\n",
       "      <td>Matt Henry</td>\n",
       "      <td>NZ</td>\n",
       "      <td>691</td>\n",
       "    </tr>\n",
       "    <tr>\n",
       "      <th>6</th>\n",
       "      <td>Jasprit Bumrah</td>\n",
       "      <td>IND</td>\n",
       "      <td>679</td>\n",
       "    </tr>\n",
       "    <tr>\n",
       "      <th>7</th>\n",
       "      <td>Mitchell Starc</td>\n",
       "      <td>AUS</td>\n",
       "      <td>652</td>\n",
       "    </tr>\n",
       "    <tr>\n",
       "      <th>8</th>\n",
       "      <td>Shakib Al Hasan</td>\n",
       "      <td>BAN</td>\n",
       "      <td>650</td>\n",
       "    </tr>\n",
       "    <tr>\n",
       "      <th>9</th>\n",
       "      <td>Kagiso Rabada</td>\n",
       "      <td>SA</td>\n",
       "      <td>643</td>\n",
       "    </tr>\n",
       "  </tbody>\n",
       "</table>\n",
       "</div>"
      ],
      "text/plain": [
       "            Bowlers                    Team Rating\n",
       "0       Trent Boult  NZ                        737\n",
       "1    Josh Hazlewood                     AUS    709\n",
       "2  Mujeeb Ur Rahman                     AFG    708\n",
       "3      Chris Woakes                     ENG    700\n",
       "4      Mehedi Hasan                     BAN    692\n",
       "5        Matt Henry                      NZ    691\n",
       "6    Jasprit Bumrah                     IND    679\n",
       "7    Mitchell Starc                     AUS    652\n",
       "8   Shakib Al Hasan                     BAN    650\n",
       "9     Kagiso Rabada                      SA    643"
      ]
     },
     "execution_count": 23,
     "metadata": {},
     "output_type": "execute_result"
    }
   ],
   "source": [
    "import pandas as pd\n",
    "df=pd.DataFrame({'Bowlers':Bowlers,'Team':Team,'Rating':Rating})\n",
    "df"
   ]
  },
  {
   "cell_type": "code",
   "execution_count": null,
   "id": "2d4e0fc0",
   "metadata": {},
   "outputs": [],
   "source": []
  }
 ],
 "metadata": {
  "kernelspec": {
   "display_name": "Python 3",
   "language": "python",
   "name": "python3"
  },
  "language_info": {
   "codemirror_mode": {
    "name": "ipython",
    "version": 3
   },
   "file_extension": ".py",
   "mimetype": "text/x-python",
   "name": "python",
   "nbconvert_exporter": "python",
   "pygments_lexer": "ipython3",
   "version": "3.8.8"
  }
 },
 "nbformat": 4,
 "nbformat_minor": 5
}
