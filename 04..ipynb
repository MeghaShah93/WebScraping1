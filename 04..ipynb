{
 "cells": [
  {
   "cell_type": "code",
   "execution_count": 1,
   "id": "0284225e",
   "metadata": {},
   "outputs": [],
   "source": [
    "from bs4 import BeautifulSoup\n",
    "import requests"
   ]
  },
  {
   "cell_type": "code",
   "execution_count": 2,
   "id": "efaabf3d",
   "metadata": {},
   "outputs": [
    {
     "data": {
      "text/plain": [
       "<Response [200]>"
      ]
     },
     "execution_count": 2,
     "metadata": {},
     "output_type": "execute_result"
    }
   ],
   "source": [
    "url='https://meesho.com/bags-ladies/pl/p7vbp'\n",
    "page=requests.get(url)\n",
    "page"
   ]
  },
  {
   "cell_type": "code",
   "execution_count": 8,
   "id": "43e1ef18",
   "metadata": {},
   "outputs": [
    {
     "data": {
      "text/plain": [
       "['Designer Rajasthani Ethnic Mirror Work Handheld Bag, Small  (Marhoom) Brownish-Red',\n",
       " 'handbags',\n",
       " 'Handbags',\n",
       " \"Girl's Handbags,  Shoulder strap, Premium quality ,peacock colour \",\n",
       " 'Rajasthani Ethnic Mirror Work Handheld Bag, Small (Red)',\n",
       " 'Ravishing Attractive Women Handbags',\n",
       " 'ute Tiffin bag – lunch bag for office, lunch bags for women, lunch bags for men, Jute bag for lunch, lunch box bags in Check Black Color',\n",
       " '2021 New Design Women/Girls Fashion handbag ',\n",
       " 'NEOMIO Women & girls white Pink stripped shoulder bags hand bag travel bag 30L',\n",
       " '2021 New Design Women/Girls Fashion handbag ',\n",
       " 'Baguette handbag (Red color)',\n",
       " 'Baguette bag (Light pink)',\n",
       " '2021 New Design Women/Girls Fashion handbag ',\n",
       " 'Graceful Fancy Women handbags',\n",
       " 'Panda sling bag',\n",
       " 'Hand bag',\n",
       " '2021 New Design Women/Girls Fashion handbag ',\n",
       " 'Gorgeous looking sling bag',\n",
       " 'Baguette bag ( cremish white )',\n",
       " 'Designer Rajasthani Ethnic Mirror Work Handheld Bag, Small (Golden)']"
      ]
     },
     "execution_count": 8,
     "metadata": {},
     "output_type": "execute_result"
    }
   ],
   "source": [
    "soup = BeautifulSoup(page.content)\n",
    "Name=[]\n",
    "Price=[]\n",
    "Discount=[]\n",
    "\n",
    "for i in soup.find_all('p',class_='Text__StyledText-sc-oo0kvp-0 bWSOET NewProductCard__ProductTitle_Desktop-sc-j0e7tu-4 cQhePS NewProductCard__ProductTitle_Desktop-sc-j0e7tu-4 cQhePS'):\n",
    "    Name.append(i.text)\n",
    "Name"
   ]
  },
  {
   "cell_type": "code",
   "execution_count": 9,
   "id": "69f97e53",
   "metadata": {},
   "outputs": [
    {
     "data": {
      "text/plain": [
       "['₹234',\n",
       " '₹126',\n",
       " '₹210',\n",
       " '₹235',\n",
       " '₹234',\n",
       " '₹335',\n",
       " '₹84',\n",
       " '₹284',\n",
       " '₹254',\n",
       " '₹284',\n",
       " '₹210',\n",
       " '₹210',\n",
       " '₹284',\n",
       " '₹472',\n",
       " '₹405',\n",
       " '₹345',\n",
       " '₹284',\n",
       " '₹334',\n",
       " '₹210',\n",
       " '₹234']"
      ]
     },
     "execution_count": 9,
     "metadata": {},
     "output_type": "execute_result"
    }
   ],
   "source": [
    "for i in soup.find_all('h5',class_='Text__StyledText-sc-oo0kvp-0 hiHdyy'):\n",
    "    Price.append(i.text)\n",
    "Price"
   ]
  },
  {
   "cell_type": "code",
   "execution_count": 10,
   "id": "1a3ba543",
   "metadata": {},
   "outputs": [
    {
     "data": {
      "text/plain": [
       "['30% off',\n",
       " '30% off',\n",
       " '30% off',\n",
       " '30% off',\n",
       " '30% off',\n",
       " '23% off',\n",
       " '30% off',\n",
       " '26% off',\n",
       " '28% off',\n",
       " '26% off',\n",
       " '30% off',\n",
       " '30% off',\n",
       " '26% off',\n",
       " '17% off',\n",
       " '20% off',\n",
       " '22% off',\n",
       " '26% off',\n",
       " '23% off',\n",
       " '30% off',\n",
       " '30% off']"
      ]
     },
     "execution_count": 10,
     "metadata": {},
     "output_type": "execute_result"
    }
   ],
   "source": [
    "for i in soup.find_all('span',class_='Text__StyledText-sc-oo0kvp-0 lnonyH'):\n",
    "    Discount.append (i.text)\n",
    "Discount"
   ]
  },
  {
   "cell_type": "code",
   "execution_count": 11,
   "id": "e5f92fb3",
   "metadata": {},
   "outputs": [
    {
     "data": {
      "text/html": [
       "<div>\n",
       "<style scoped>\n",
       "    .dataframe tbody tr th:only-of-type {\n",
       "        vertical-align: middle;\n",
       "    }\n",
       "\n",
       "    .dataframe tbody tr th {\n",
       "        vertical-align: top;\n",
       "    }\n",
       "\n",
       "    .dataframe thead th {\n",
       "        text-align: right;\n",
       "    }\n",
       "</style>\n",
       "<table border=\"1\" class=\"dataframe\">\n",
       "  <thead>\n",
       "    <tr style=\"text-align: right;\">\n",
       "      <th></th>\n",
       "      <th>Name</th>\n",
       "      <th>Price</th>\n",
       "      <th>Discount</th>\n",
       "    </tr>\n",
       "  </thead>\n",
       "  <tbody>\n",
       "    <tr>\n",
       "      <th>0</th>\n",
       "      <td>Designer Rajasthani Ethnic Mirror Work Handhel...</td>\n",
       "      <td>₹234</td>\n",
       "      <td>30% off</td>\n",
       "    </tr>\n",
       "    <tr>\n",
       "      <th>1</th>\n",
       "      <td>handbags</td>\n",
       "      <td>₹126</td>\n",
       "      <td>30% off</td>\n",
       "    </tr>\n",
       "    <tr>\n",
       "      <th>2</th>\n",
       "      <td>Handbags</td>\n",
       "      <td>₹210</td>\n",
       "      <td>30% off</td>\n",
       "    </tr>\n",
       "    <tr>\n",
       "      <th>3</th>\n",
       "      <td>Girl's Handbags,  Shoulder strap, Premium qual...</td>\n",
       "      <td>₹235</td>\n",
       "      <td>30% off</td>\n",
       "    </tr>\n",
       "    <tr>\n",
       "      <th>4</th>\n",
       "      <td>Rajasthani Ethnic Mirror Work Handheld Bag, Sm...</td>\n",
       "      <td>₹234</td>\n",
       "      <td>30% off</td>\n",
       "    </tr>\n",
       "    <tr>\n",
       "      <th>5</th>\n",
       "      <td>Ravishing Attractive Women Handbags</td>\n",
       "      <td>₹335</td>\n",
       "      <td>23% off</td>\n",
       "    </tr>\n",
       "    <tr>\n",
       "      <th>6</th>\n",
       "      <td>ute Tiffin bag – lunch bag for office, lunch b...</td>\n",
       "      <td>₹84</td>\n",
       "      <td>30% off</td>\n",
       "    </tr>\n",
       "    <tr>\n",
       "      <th>7</th>\n",
       "      <td>2021 New Design Women/Girls Fashion handbag</td>\n",
       "      <td>₹284</td>\n",
       "      <td>26% off</td>\n",
       "    </tr>\n",
       "    <tr>\n",
       "      <th>8</th>\n",
       "      <td>NEOMIO Women &amp; girls white Pink stripped shoul...</td>\n",
       "      <td>₹254</td>\n",
       "      <td>28% off</td>\n",
       "    </tr>\n",
       "    <tr>\n",
       "      <th>9</th>\n",
       "      <td>2021 New Design Women/Girls Fashion handbag</td>\n",
       "      <td>₹284</td>\n",
       "      <td>26% off</td>\n",
       "    </tr>\n",
       "    <tr>\n",
       "      <th>10</th>\n",
       "      <td>Baguette handbag (Red color)</td>\n",
       "      <td>₹210</td>\n",
       "      <td>30% off</td>\n",
       "    </tr>\n",
       "    <tr>\n",
       "      <th>11</th>\n",
       "      <td>Baguette bag (Light pink)</td>\n",
       "      <td>₹210</td>\n",
       "      <td>30% off</td>\n",
       "    </tr>\n",
       "    <tr>\n",
       "      <th>12</th>\n",
       "      <td>2021 New Design Women/Girls Fashion handbag</td>\n",
       "      <td>₹284</td>\n",
       "      <td>26% off</td>\n",
       "    </tr>\n",
       "    <tr>\n",
       "      <th>13</th>\n",
       "      <td>Graceful Fancy Women handbags</td>\n",
       "      <td>₹472</td>\n",
       "      <td>17% off</td>\n",
       "    </tr>\n",
       "    <tr>\n",
       "      <th>14</th>\n",
       "      <td>Panda sling bag</td>\n",
       "      <td>₹405</td>\n",
       "      <td>20% off</td>\n",
       "    </tr>\n",
       "    <tr>\n",
       "      <th>15</th>\n",
       "      <td>Hand bag</td>\n",
       "      <td>₹345</td>\n",
       "      <td>22% off</td>\n",
       "    </tr>\n",
       "    <tr>\n",
       "      <th>16</th>\n",
       "      <td>2021 New Design Women/Girls Fashion handbag</td>\n",
       "      <td>₹284</td>\n",
       "      <td>26% off</td>\n",
       "    </tr>\n",
       "    <tr>\n",
       "      <th>17</th>\n",
       "      <td>Gorgeous looking sling bag</td>\n",
       "      <td>₹334</td>\n",
       "      <td>23% off</td>\n",
       "    </tr>\n",
       "    <tr>\n",
       "      <th>18</th>\n",
       "      <td>Baguette bag ( cremish white )</td>\n",
       "      <td>₹210</td>\n",
       "      <td>30% off</td>\n",
       "    </tr>\n",
       "    <tr>\n",
       "      <th>19</th>\n",
       "      <td>Designer Rajasthani Ethnic Mirror Work Handhel...</td>\n",
       "      <td>₹234</td>\n",
       "      <td>30% off</td>\n",
       "    </tr>\n",
       "  </tbody>\n",
       "</table>\n",
       "</div>"
      ],
      "text/plain": [
       "                                                 Name Price Discount\n",
       "0   Designer Rajasthani Ethnic Mirror Work Handhel...  ₹234  30% off\n",
       "1                                            handbags  ₹126  30% off\n",
       "2                                            Handbags  ₹210  30% off\n",
       "3   Girl's Handbags,  Shoulder strap, Premium qual...  ₹235  30% off\n",
       "4   Rajasthani Ethnic Mirror Work Handheld Bag, Sm...  ₹234  30% off\n",
       "5                 Ravishing Attractive Women Handbags  ₹335  23% off\n",
       "6   ute Tiffin bag – lunch bag for office, lunch b...   ₹84  30% off\n",
       "7        2021 New Design Women/Girls Fashion handbag   ₹284  26% off\n",
       "8   NEOMIO Women & girls white Pink stripped shoul...  ₹254  28% off\n",
       "9        2021 New Design Women/Girls Fashion handbag   ₹284  26% off\n",
       "10                       Baguette handbag (Red color)  ₹210  30% off\n",
       "11                          Baguette bag (Light pink)  ₹210  30% off\n",
       "12       2021 New Design Women/Girls Fashion handbag   ₹284  26% off\n",
       "13                      Graceful Fancy Women handbags  ₹472  17% off\n",
       "14                                    Panda sling bag  ₹405  20% off\n",
       "15                                           Hand bag  ₹345  22% off\n",
       "16       2021 New Design Women/Girls Fashion handbag   ₹284  26% off\n",
       "17                         Gorgeous looking sling bag  ₹334  23% off\n",
       "18                     Baguette bag ( cremish white )  ₹210  30% off\n",
       "19  Designer Rajasthani Ethnic Mirror Work Handhel...  ₹234  30% off"
      ]
     },
     "execution_count": 11,
     "metadata": {},
     "output_type": "execute_result"
    }
   ],
   "source": [
    "import pandas as pd\n",
    "df=pd.DataFrame({'Name':Name,'Price':Price,'Discount':Discount})\n",
    "df"
   ]
  },
  {
   "cell_type": "code",
   "execution_count": null,
   "id": "3b393920",
   "metadata": {},
   "outputs": [],
   "source": []
  }
 ],
 "metadata": {
  "kernelspec": {
   "display_name": "Python 3",
   "language": "python",
   "name": "python3"
  },
  "language_info": {
   "codemirror_mode": {
    "name": "ipython",
    "version": 3
   },
   "file_extension": ".py",
   "mimetype": "text/x-python",
   "name": "python",
   "nbconvert_exporter": "python",
   "pygments_lexer": "ipython3",
   "version": "3.8.8"
  }
 },
 "nbformat": 4,
 "nbformat_minor": 5
}
