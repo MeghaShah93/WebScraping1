{
 "cells": [
  {
   "cell_type": "code",
   "execution_count": 21,
   "id": "e0837d3e",
   "metadata": {},
   "outputs": [],
   "source": [
    "from bs4 import BeautifulSoup\n",
    "import requests"
   ]
  },
  {
   "cell_type": "code",
   "execution_count": 22,
   "id": "b66509e6",
   "metadata": {},
   "outputs": [
    {
     "data": {
      "text/plain": [
       "<Response [200]>"
      ]
     },
     "execution_count": 22,
     "metadata": {},
     "output_type": "execute_result"
    }
   ],
   "source": [
    "url='https://www.bewakoof.com/women-tshirts?ga_q=tshirts'\n",
    "page=requests.get(url)\n",
    "page"
   ]
  },
  {
   "cell_type": "code",
   "execution_count": 23,
   "id": "53be795a",
   "metadata": {},
   "outputs": [],
   "source": [
    "soup=BeautifulSoup(page.content)"
   ]
  },
  {
   "cell_type": "code",
   "execution_count": 27,
   "id": "6f7df0f8",
   "metadata": {},
   "outputs": [
    {
     "name": "stdout",
     "output_type": "stream",
     "text": [
      "['Nope Lazy Half Sleeve  T-shirt', 'Climbing pocket panda Half Sleeve  T-shirt', 'Bunny Rabbit Pocket Half Sleeve  T-shirt', 'Chibi Harry Half Sleeve Printed T-shirt (HPL)', 'Beach Blue Half Sleeve T-Shirt', 'Happiness Lost Half Sleeve  T-Shirt', 'Innner Happiness Half Sleeve T-Shirt', 'Keep Your Distance Panda Half Sleeve Printed T-shirt', 'Stay There Jerry Half Sleeve Printed T-Shirt Oxyfire (TJL)', 'Cute Tweety Pocket Half Sleeve Printed T-shirt (LTL)']\n",
      "['₹ 199', '₹ 199', '₹ 199', '₹ 199', '₹ 249', '₹ 249', '₹ 199', '₹ 199', '₹ 199', '₹ 199']\n"
     ]
    }
   ],
   "source": [
    "product=[]\n",
    "prices=[]\n",
    "for i in soup.find_all('div',class_='productCardDetail'):\n",
    "    product.append(i.find('h3').text)\n",
    "    prices.append(i.find('span', class_='discountedPriceText').text)\n",
    "print(product)\n",
    "print(prices)"
   ]
  },
  {
   "cell_type": "code",
   "execution_count": 30,
   "id": "0aec6904",
   "metadata": {},
   "outputs": [
    {
     "data": {
      "text/plain": [
       "['https://images.bewakoof.com/t320/nope-lazy-half-sleeve-t-shirt-women-s-half-sleeve-printed-t-shirt-367268-1625575273.jpg',\n",
       " 'https://images.bewakoof.com/t320/climbing-pocket-panda-half-sleeve-t-shirt-women-s-half-sleeve-printed-t-shirt-367262-1625470625.jpg',\n",
       " 'https://images.bewakoof.com/t320/bunny-rabbit-pocket-half-sleeve-t-shirt-women-s-half-sleeve-printed-t-shirt-367263-1625470643.jpg',\n",
       " 'https://images.bewakoof.com/t320/chibi-harry-half-sleeve-printed-t-shirts-hpl-women-s-half-sleeve-printed-t-shirt-367249-1625470570.jpg',\n",
       " 'https://images.bewakoof.com/t320/aqua-sky-half-sleeve-t-shirt-women-s-plain-half-sleeves-t-shirt-329413-1614350444.jpg',\n",
       " 'https://images.bewakoof.com/t320/happiness-lost-half-sleeve-t-shirt-women-s-half-sleeve-printed-t-shirt-374214-1625055420.jpg',\n",
       " 'https://images.bewakoof.com/t320/innner-happiness-half-sleeve-t-shirt-women-s-half-sleeve-printed-t-shirt-378993-1625831594.jpg',\n",
       " 'https://images.bewakoof.com/t320/stay-away-panda-half-sleeve-printed-t-shirt-women-s-half-sleeve-printed-t-shirt-343638-1616404507.jpg',\n",
       " 'https://images.bewakoof.com/t320/stay-there-jerry-half-sleeve-printed-t-shirt-oxyfire-tjl-women-s-half-sleeve-printed-t-shirt-345038-1616763606.jpg',\n",
       " 'https://images.bewakoof.com/t320/cute-tweety-pocket-half-sleeve-printed-t-shirt--ltl-women-s-half-sleeve-printed-t-shirt-368293-1625470663.jpg']"
      ]
     },
     "execution_count": 30,
     "metadata": {},
     "output_type": "execute_result"
    }
   ],
   "source": [
    "ImageURL=[]\n",
    "for i in soup.find_all('div', class_='productCardImg false'):\n",
    "    ImageURL.append(i.find('img')['src'])\n",
    "ImageURL"
   ]
  },
  {
   "cell_type": "code",
   "execution_count": 31,
   "id": "8ca23691",
   "metadata": {},
   "outputs": [
    {
     "data": {
      "text/html": [
       "<div>\n",
       "<style scoped>\n",
       "    .dataframe tbody tr th:only-of-type {\n",
       "        vertical-align: middle;\n",
       "    }\n",
       "\n",
       "    .dataframe tbody tr th {\n",
       "        vertical-align: top;\n",
       "    }\n",
       "\n",
       "    .dataframe thead th {\n",
       "        text-align: right;\n",
       "    }\n",
       "</style>\n",
       "<table border=\"1\" class=\"dataframe\">\n",
       "  <thead>\n",
       "    <tr style=\"text-align: right;\">\n",
       "      <th></th>\n",
       "      <th>Product</th>\n",
       "      <th>Price</th>\n",
       "      <th>ImageURL</th>\n",
       "    </tr>\n",
       "  </thead>\n",
       "  <tbody>\n",
       "    <tr>\n",
       "      <th>0</th>\n",
       "      <td>Nope Lazy Half Sleeve  T-shirt</td>\n",
       "      <td>₹ 199</td>\n",
       "      <td>https://images.bewakoof.com/t320/nope-lazy-hal...</td>\n",
       "    </tr>\n",
       "    <tr>\n",
       "      <th>1</th>\n",
       "      <td>Climbing pocket panda Half Sleeve  T-shirt</td>\n",
       "      <td>₹ 199</td>\n",
       "      <td>https://images.bewakoof.com/t320/climbing-pock...</td>\n",
       "    </tr>\n",
       "    <tr>\n",
       "      <th>2</th>\n",
       "      <td>Bunny Rabbit Pocket Half Sleeve  T-shirt</td>\n",
       "      <td>₹ 199</td>\n",
       "      <td>https://images.bewakoof.com/t320/bunny-rabbit-...</td>\n",
       "    </tr>\n",
       "    <tr>\n",
       "      <th>3</th>\n",
       "      <td>Chibi Harry Half Sleeve Printed T-shirt (HPL)</td>\n",
       "      <td>₹ 199</td>\n",
       "      <td>https://images.bewakoof.com/t320/chibi-harry-h...</td>\n",
       "    </tr>\n",
       "    <tr>\n",
       "      <th>4</th>\n",
       "      <td>Beach Blue Half Sleeve T-Shirt</td>\n",
       "      <td>₹ 249</td>\n",
       "      <td>https://images.bewakoof.com/t320/aqua-sky-half...</td>\n",
       "    </tr>\n",
       "    <tr>\n",
       "      <th>5</th>\n",
       "      <td>Happiness Lost Half Sleeve  T-Shirt</td>\n",
       "      <td>₹ 249</td>\n",
       "      <td>https://images.bewakoof.com/t320/happiness-los...</td>\n",
       "    </tr>\n",
       "    <tr>\n",
       "      <th>6</th>\n",
       "      <td>Innner Happiness Half Sleeve T-Shirt</td>\n",
       "      <td>₹ 199</td>\n",
       "      <td>https://images.bewakoof.com/t320/innner-happin...</td>\n",
       "    </tr>\n",
       "    <tr>\n",
       "      <th>7</th>\n",
       "      <td>Keep Your Distance Panda Half Sleeve Printed T...</td>\n",
       "      <td>₹ 199</td>\n",
       "      <td>https://images.bewakoof.com/t320/stay-away-pan...</td>\n",
       "    </tr>\n",
       "    <tr>\n",
       "      <th>8</th>\n",
       "      <td>Stay There Jerry Half Sleeve Printed T-Shirt O...</td>\n",
       "      <td>₹ 199</td>\n",
       "      <td>https://images.bewakoof.com/t320/stay-there-je...</td>\n",
       "    </tr>\n",
       "    <tr>\n",
       "      <th>9</th>\n",
       "      <td>Cute Tweety Pocket Half Sleeve Printed T-shirt...</td>\n",
       "      <td>₹ 199</td>\n",
       "      <td>https://images.bewakoof.com/t320/cute-tweety-p...</td>\n",
       "    </tr>\n",
       "  </tbody>\n",
       "</table>\n",
       "</div>"
      ],
      "text/plain": [
       "                                             Product  Price  \\\n",
       "0                     Nope Lazy Half Sleeve  T-shirt  ₹ 199   \n",
       "1         Climbing pocket panda Half Sleeve  T-shirt  ₹ 199   \n",
       "2           Bunny Rabbit Pocket Half Sleeve  T-shirt  ₹ 199   \n",
       "3      Chibi Harry Half Sleeve Printed T-shirt (HPL)  ₹ 199   \n",
       "4                     Beach Blue Half Sleeve T-Shirt  ₹ 249   \n",
       "5                Happiness Lost Half Sleeve  T-Shirt  ₹ 249   \n",
       "6               Innner Happiness Half Sleeve T-Shirt  ₹ 199   \n",
       "7  Keep Your Distance Panda Half Sleeve Printed T...  ₹ 199   \n",
       "8  Stay There Jerry Half Sleeve Printed T-Shirt O...  ₹ 199   \n",
       "9  Cute Tweety Pocket Half Sleeve Printed T-shirt...  ₹ 199   \n",
       "\n",
       "                                            ImageURL  \n",
       "0  https://images.bewakoof.com/t320/nope-lazy-hal...  \n",
       "1  https://images.bewakoof.com/t320/climbing-pock...  \n",
       "2  https://images.bewakoof.com/t320/bunny-rabbit-...  \n",
       "3  https://images.bewakoof.com/t320/chibi-harry-h...  \n",
       "4  https://images.bewakoof.com/t320/aqua-sky-half...  \n",
       "5  https://images.bewakoof.com/t320/happiness-los...  \n",
       "6  https://images.bewakoof.com/t320/innner-happin...  \n",
       "7  https://images.bewakoof.com/t320/stay-away-pan...  \n",
       "8  https://images.bewakoof.com/t320/stay-there-je...  \n",
       "9  https://images.bewakoof.com/t320/cute-tweety-p...  "
      ]
     },
     "execution_count": 31,
     "metadata": {},
     "output_type": "execute_result"
    }
   ],
   "source": [
    "import pandas as pd\n",
    "df = pd.DataFrame({'Product':product,'Price':prices,'ImageURL':ImageURL})\n",
    "df"
   ]
  },
  {
   "cell_type": "code",
   "execution_count": null,
   "id": "cc9d80ed",
   "metadata": {},
   "outputs": [],
   "source": []
  }
 ],
 "metadata": {
  "kernelspec": {
   "display_name": "Python 3",
   "language": "python",
   "name": "python3"
  },
  "language_info": {
   "codemirror_mode": {
    "name": "ipython",
    "version": 3
   },
   "file_extension": ".py",
   "mimetype": "text/x-python",
   "name": "python",
   "nbconvert_exporter": "python",
   "pygments_lexer": "ipython3",
   "version": "3.8.8"
  }
 },
 "nbformat": 4,
 "nbformat_minor": 5
}
