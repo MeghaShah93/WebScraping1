{
 "cells": [
  {
   "cell_type": "code",
   "execution_count": 1,
   "id": "2a56e47c",
   "metadata": {},
   "outputs": [],
   "source": [
    "from bs4 import BeautifulSoup\n",
    "import requests"
   ]
  },
  {
   "cell_type": "markdown",
   "id": "be2110be",
   "metadata": {},
   "source": [
    "## a) Top 10 ODI teams in women’s cricket along with the records for matches, points and rating."
   ]
  },
  {
   "cell_type": "code",
   "execution_count": 2,
   "id": "3bea541a",
   "metadata": {},
   "outputs": [
    {
     "data": {
      "text/plain": [
       "<Response [200]>"
      ]
     },
     "execution_count": 2,
     "metadata": {},
     "output_type": "execute_result"
    }
   ],
   "source": [
    "url='https://www.icc-cricket.com/rankings/womens/team-rankings/odi'\n",
    "page=requests.get(url)\n",
    "page"
   ]
  },
  {
   "cell_type": "code",
   "execution_count": 4,
   "id": "a4f43993",
   "metadata": {},
   "outputs": [
    {
     "data": {
      "text/plain": [
       "['Australia',\n",
       " 'South Africa',\n",
       " 'England',\n",
       " 'India',\n",
       " 'Bangladesh',\n",
       " 'New Zealand',\n",
       " 'West Indies',\n",
       " 'Pakistan',\n",
       " 'Ireland',\n",
       " 'Sri Lanka']"
      ]
     },
     "execution_count": 4,
     "metadata": {},
     "output_type": "execute_result"
    }
   ],
   "source": [
    "soup = BeautifulSoup(page.content)\n",
    "Team =[]\n",
    "num=0\n",
    "for i in soup.find_all('span',class_='u-hide-phablet'):\n",
    "    num+=1\n",
    "    if num >10:\n",
    "        break\n",
    "    Team.append(i.text)\n",
    "Team\n"
   ]
  },
  {
   "cell_type": "code",
   "execution_count": 50,
   "id": "4536b164",
   "metadata": {},
   "outputs": [
    {
     "name": "stdout",
     "output_type": "stream",
     "text": [
      "['17', '19', '18', '17', '5', '19', '19', '18', '5', '5']\n",
      "['2,746', '2,307', '2,148', '1,899', '475', '1,668', '1,658', '1,226', '240', '233']\n"
     ]
    }
   ],
   "source": [
    "soup2 = BeautifulSoup(page.content)\n",
    "Matches =[]\n",
    "Points =[]\n",
    "\n",
    "for i in soup.find_all('tr',class_='rankings-block__banner'):\n",
    "    Matches.append(i.find('td',class_='rankings-block__banner--matches').text)\n",
    "    Points.append(i.find('td',class_='rankings-block__banner--points').text)\n",
    "num=0\n",
    "for i in soup2.find_all('tr',class_='table-body'):\n",
    "    num+=1\n",
    "    if num >9:\n",
    "        break\n",
    "    Matches.append(i.find_all('td',class_='table-body__cell u-center-text')[0].text)\n",
    "    Points.append (i.find_all('td',class_='table-body__cell u-center-text')[1].text)\n",
    "    \n",
    "        \n",
    "print(Matches)\n",
    "print(Points)"
   ]
  },
  {
   "cell_type": "code",
   "execution_count": 52,
   "id": "2c3b1a4e",
   "metadata": {},
   "outputs": [
    {
     "data": {
      "text/plain": [
       "['162', '121', '119', '112', '95', '88', '87', '68', '48', '47']"
      ]
     },
     "execution_count": 52,
     "metadata": {},
     "output_type": "execute_result"
    }
   ],
   "source": [
    "Ratings=[]\n",
    "for i in soup.find_all('tr',class_='rankings-block__banner'):\n",
    "    Ratings.append(i.find('td',class_='rankings-block__banner--rating u-text-right').text.replace('\\n','').replace(' ',''))\n",
    "num=0                  \n",
    "for i in soup2.find_all('tr',class_='table-body'):\n",
    "    num+=1\n",
    "    if num>9:\n",
    "        break\n",
    "    Ratings.append(i.find('td',class_='table-body__cell u-text-right rating').text)\n",
    "\n",
    "Ratings"
   ]
  },
  {
   "cell_type": "code",
   "execution_count": 83,
   "id": "b179b6e2",
   "metadata": {},
   "outputs": [
    {
     "data": {
      "text/html": [
       "<div>\n",
       "<style scoped>\n",
       "    .dataframe tbody tr th:only-of-type {\n",
       "        vertical-align: middle;\n",
       "    }\n",
       "\n",
       "    .dataframe tbody tr th {\n",
       "        vertical-align: top;\n",
       "    }\n",
       "\n",
       "    .dataframe thead th {\n",
       "        text-align: right;\n",
       "    }\n",
       "</style>\n",
       "<table border=\"1\" class=\"dataframe\">\n",
       "  <thead>\n",
       "    <tr style=\"text-align: right;\">\n",
       "      <th></th>\n",
       "      <th>Team</th>\n",
       "      <th>Matches</th>\n",
       "      <th>Points</th>\n",
       "      <th>Ranking</th>\n",
       "    </tr>\n",
       "  </thead>\n",
       "  <tbody>\n",
       "    <tr>\n",
       "      <th>0</th>\n",
       "      <td>SA</td>\n",
       "      <td>17</td>\n",
       "      <td>2,746</td>\n",
       "      <td>761</td>\n",
       "    </tr>\n",
       "    <tr>\n",
       "      <th>1</th>\n",
       "      <td>AUS</td>\n",
       "      <td>19</td>\n",
       "      <td>2,307</td>\n",
       "      <td>750</td>\n",
       "    </tr>\n",
       "    <tr>\n",
       "      <th>2</th>\n",
       "      <td>IND</td>\n",
       "      <td>18</td>\n",
       "      <td>2,148</td>\n",
       "      <td>738</td>\n",
       "    </tr>\n",
       "    <tr>\n",
       "      <th>3</th>\n",
       "      <td>ENG</td>\n",
       "      <td>17</td>\n",
       "      <td>1,899</td>\n",
       "      <td>728</td>\n",
       "    </tr>\n",
       "    <tr>\n",
       "      <th>4</th>\n",
       "      <td>NZ</td>\n",
       "      <td>5</td>\n",
       "      <td>475</td>\n",
       "      <td>717</td>\n",
       "    </tr>\n",
       "    <tr>\n",
       "      <th>5</th>\n",
       "      <td>IND</td>\n",
       "      <td>19</td>\n",
       "      <td>1,668</td>\n",
       "      <td>710</td>\n",
       "    </tr>\n",
       "    <tr>\n",
       "      <th>6</th>\n",
       "      <td>AUS</td>\n",
       "      <td>19</td>\n",
       "      <td>1,658</td>\n",
       "      <td>699</td>\n",
       "    </tr>\n",
       "    <tr>\n",
       "      <th>7</th>\n",
       "      <td>AUS</td>\n",
       "      <td>18</td>\n",
       "      <td>1,226</td>\n",
       "      <td>690</td>\n",
       "    </tr>\n",
       "    <tr>\n",
       "      <th>8</th>\n",
       "      <td>WI</td>\n",
       "      <td>5</td>\n",
       "      <td>240</td>\n",
       "      <td>676</td>\n",
       "    </tr>\n",
       "    <tr>\n",
       "      <th>9</th>\n",
       "      <td>ENG</td>\n",
       "      <td>5</td>\n",
       "      <td>233</td>\n",
       "      <td>674</td>\n",
       "    </tr>\n",
       "  </tbody>\n",
       "</table>\n",
       "</div>"
      ],
      "text/plain": [
       "  Team Matches Points Ranking\n",
       "0   SA      17  2,746     761\n",
       "1  AUS      19  2,307     750\n",
       "2  IND      18  2,148     738\n",
       "3  ENG      17  1,899     728\n",
       "4   NZ       5    475     717\n",
       "5  IND      19  1,668     710\n",
       "6  AUS      19  1,658     699\n",
       "7  AUS      18  1,226     690\n",
       "8   WI       5    240     676\n",
       "9  ENG       5    233     674"
      ]
     },
     "execution_count": 83,
     "metadata": {},
     "output_type": "execute_result"
    }
   ],
   "source": [
    "import pandas as pd\n",
    "df=pd.DataFrame({'Team':team,'Matches':Matches,'Points':Points,'Ranking':Ranking})\n",
    "df"
   ]
  },
  {
   "cell_type": "markdown",
   "id": "50913351",
   "metadata": {},
   "source": [
    "## b) Top 10 women’s ODI Batting players along with the records of their team and rating."
   ]
  },
  {
   "cell_type": "code",
   "execution_count": 5,
   "id": "8b3582fe",
   "metadata": {},
   "outputs": [
    {
     "data": {
      "text/plain": [
       "<Response [200]>"
      ]
     },
     "execution_count": 5,
     "metadata": {},
     "output_type": "execute_result"
    }
   ],
   "source": [
    "url='https://www.icc-cricket.com/rankings/womens/player-rankings/odi/batting'\n",
    "page=requests.get(url)\n",
    "page"
   ]
  },
  {
   "cell_type": "code",
   "execution_count": 6,
   "id": "ea27516d",
   "metadata": {},
   "outputs": [
    {
     "data": {
      "text/plain": [
       "['Lizelle Lee',\n",
       " 'Alyssa Healy',\n",
       " 'Mithali Raj',\n",
       " 'Tammy Beaumont',\n",
       " 'Amy Satterthwaite',\n",
       " 'Smriti Mandhana',\n",
       " 'Meg Lanning',\n",
       " 'Beth Mooney',\n",
       " 'Stafanie Taylor',\n",
       " 'Heather Knight']"
      ]
     },
     "execution_count": 6,
     "metadata": {},
     "output_type": "execute_result"
    }
   ],
   "source": [
    "soup = BeautifulSoup(page.content)\n",
    "soup2 = BeautifulSoup(page.content)\n",
    "Name=[]\n",
    "for i in soup.find_all('div',class_='rankings-block__banner--name-large'):\n",
    "    Name.append(i.text)\n",
    "num=0\n",
    "for i in soup2.find_all('td',class_='table-body__cell rankings-table__name name'):\n",
    "    num+=1\n",
    "    if num >9:\n",
    "        break\n",
    "    Name.append(i.find('a').text)\n",
    "Name"
   ]
  },
  {
   "cell_type": "code",
   "execution_count": 7,
   "id": "723067fc",
   "metadata": {},
   "outputs": [
    {
     "data": {
      "text/plain": [
       "['SA', 'AUS', 'IND', 'ENG', 'NZ', 'IND', 'AUS', 'AUS', 'WI', 'ENG']"
      ]
     },
     "execution_count": 7,
     "metadata": {},
     "output_type": "execute_result"
    }
   ],
   "source": [
    "team=[]\n",
    "for i in soup.find_all('div',class_='rankings-block__banner--nationality'):\n",
    "    team.append(i.text.replace('\\n','').replace(' ',''))\n",
    "num=0\n",
    "for i in soup2.find_all('td',class_='table-body__cell nationality-logo rankings-table__team'):\n",
    "    num+=1\n",
    "    if num>9:\n",
    "        break\n",
    "    team.append(i.find('span',class_='table-body__logo-text').text)\n",
    "team"
   ]
  },
  {
   "cell_type": "code",
   "execution_count": 8,
   "id": "252084d5",
   "metadata": {},
   "outputs": [
    {
     "data": {
      "text/plain": [
       "['761', '750', '738', '728', '717', '710', '699', '690', '676', '674']"
      ]
     },
     "execution_count": 8,
     "metadata": {},
     "output_type": "execute_result"
    }
   ],
   "source": [
    "Ranking=[]\n",
    "for i in soup.find_all('div',class_='rankings-block__banner--rating'):\n",
    "    Ranking.append(i.text)\n",
    "num=0\n",
    "for i in soup2.find_all('td',class_='table-body__cell rating'):\n",
    "    num+=1\n",
    "    if num>9:\n",
    "        break\n",
    "    Ranking.append(i.text)\n",
    "Ranking"
   ]
  },
  {
   "cell_type": "code",
   "execution_count": 9,
   "id": "efc05d38",
   "metadata": {},
   "outputs": [
    {
     "data": {
      "text/html": [
       "<div>\n",
       "<style scoped>\n",
       "    .dataframe tbody tr th:only-of-type {\n",
       "        vertical-align: middle;\n",
       "    }\n",
       "\n",
       "    .dataframe tbody tr th {\n",
       "        vertical-align: top;\n",
       "    }\n",
       "\n",
       "    .dataframe thead th {\n",
       "        text-align: right;\n",
       "    }\n",
       "</style>\n",
       "<table border=\"1\" class=\"dataframe\">\n",
       "  <thead>\n",
       "    <tr style=\"text-align: right;\">\n",
       "      <th></th>\n",
       "      <th>Player</th>\n",
       "      <th>Team</th>\n",
       "      <th>Ranking</th>\n",
       "    </tr>\n",
       "  </thead>\n",
       "  <tbody>\n",
       "    <tr>\n",
       "      <th>0</th>\n",
       "      <td>Lizelle Lee</td>\n",
       "      <td>SA</td>\n",
       "      <td>761</td>\n",
       "    </tr>\n",
       "    <tr>\n",
       "      <th>1</th>\n",
       "      <td>Alyssa Healy</td>\n",
       "      <td>AUS</td>\n",
       "      <td>750</td>\n",
       "    </tr>\n",
       "    <tr>\n",
       "      <th>2</th>\n",
       "      <td>Mithali Raj</td>\n",
       "      <td>IND</td>\n",
       "      <td>738</td>\n",
       "    </tr>\n",
       "    <tr>\n",
       "      <th>3</th>\n",
       "      <td>Tammy Beaumont</td>\n",
       "      <td>ENG</td>\n",
       "      <td>728</td>\n",
       "    </tr>\n",
       "    <tr>\n",
       "      <th>4</th>\n",
       "      <td>Amy Satterthwaite</td>\n",
       "      <td>NZ</td>\n",
       "      <td>717</td>\n",
       "    </tr>\n",
       "    <tr>\n",
       "      <th>5</th>\n",
       "      <td>Smriti Mandhana</td>\n",
       "      <td>IND</td>\n",
       "      <td>710</td>\n",
       "    </tr>\n",
       "    <tr>\n",
       "      <th>6</th>\n",
       "      <td>Meg Lanning</td>\n",
       "      <td>AUS</td>\n",
       "      <td>699</td>\n",
       "    </tr>\n",
       "    <tr>\n",
       "      <th>7</th>\n",
       "      <td>Beth Mooney</td>\n",
       "      <td>AUS</td>\n",
       "      <td>690</td>\n",
       "    </tr>\n",
       "    <tr>\n",
       "      <th>8</th>\n",
       "      <td>Stafanie Taylor</td>\n",
       "      <td>WI</td>\n",
       "      <td>676</td>\n",
       "    </tr>\n",
       "    <tr>\n",
       "      <th>9</th>\n",
       "      <td>Heather Knight</td>\n",
       "      <td>ENG</td>\n",
       "      <td>674</td>\n",
       "    </tr>\n",
       "  </tbody>\n",
       "</table>\n",
       "</div>"
      ],
      "text/plain": [
       "              Player Team Ranking\n",
       "0        Lizelle Lee   SA     761\n",
       "1       Alyssa Healy  AUS     750\n",
       "2        Mithali Raj  IND     738\n",
       "3     Tammy Beaumont  ENG     728\n",
       "4  Amy Satterthwaite   NZ     717\n",
       "5    Smriti Mandhana  IND     710\n",
       "6        Meg Lanning  AUS     699\n",
       "7        Beth Mooney  AUS     690\n",
       "8    Stafanie Taylor   WI     676\n",
       "9     Heather Knight  ENG     674"
      ]
     },
     "execution_count": 9,
     "metadata": {},
     "output_type": "execute_result"
    }
   ],
   "source": [
    "import pandas as pd\n",
    "df=pd.DataFrame({'Player':Name,'Team':team,'Ranking':Ranking})\n",
    "df"
   ]
  },
  {
   "cell_type": "markdown",
   "id": "a87c4dce",
   "metadata": {},
   "source": [
    "## c) Top 10 women’s ODI all-rounder along with the records of their team and rating."
   ]
  },
  {
   "cell_type": "code",
   "execution_count": 2,
   "id": "75b42022",
   "metadata": {},
   "outputs": [
    {
     "data": {
      "text/plain": [
       "<Response [200]>"
      ]
     },
     "execution_count": 2,
     "metadata": {},
     "output_type": "execute_result"
    }
   ],
   "source": [
    "url='https://www.icc-cricket.com/rankings/womens/player-rankings/odi/all-rounder'\n",
    "page=requests.get(url)\n",
    "page"
   ]
  },
  {
   "cell_type": "code",
   "execution_count": 3,
   "id": "4ae4d435",
   "metadata": {},
   "outputs": [],
   "source": [
    "soup=BeautifulSoup(page.content)\n",
    "soup2=BeautifulSoup(page.content)"
   ]
  },
  {
   "cell_type": "code",
   "execution_count": 10,
   "id": "9e5cb2e0",
   "metadata": {},
   "outputs": [
    {
     "data": {
      "text/plain": [
       "['Marizanne Kapp',\n",
       " 'Natalie Sciver',\n",
       " 'Ellyse Perry',\n",
       " 'Stafanie Taylor',\n",
       " 'Deepti Sharma',\n",
       " 'Ashleigh Gardner',\n",
       " 'Dane van Niekerk',\n",
       " 'Hayley Matthews',\n",
       " 'Jess Jonassen',\n",
       " 'Katherine Brunt']"
      ]
     },
     "execution_count": 10,
     "metadata": {},
     "output_type": "execute_result"
    }
   ],
   "source": [
    "\n",
    "Name=[]\n",
    "for i in soup.find_all('div',class_='rankings-block__banner--name-large'):\n",
    "    Name.append(i.text)\n",
    "num=0\n",
    "for i in soup2.find_all('td',class_='table-body__cell rankings-table__name name'):\n",
    "    num+=1\n",
    "    if num>9 :\n",
    "        break\n",
    "    Name.append(i.text.replace('\\n',''))\n",
    "Name"
   ]
  },
  {
   "cell_type": "code",
   "execution_count": 20,
   "id": "fb2a2c72",
   "metadata": {},
   "outputs": [
    {
     "data": {
      "text/plain": [
       "['SA', 'ENG', 'AUS', 'WI', 'IND', 'AUS', 'SA', 'WI', 'AUS', 'ENG']"
      ]
     },
     "execution_count": 20,
     "metadata": {},
     "output_type": "execute_result"
    }
   ],
   "source": [
    "Team=[]\n",
    "for i in soup.find_all('div',class_='rankings-block__banner--nationality'):\n",
    "    Team.append(i.text.replace('\\n','').replace(' ',''))\n",
    "num=0\n",
    "for i in soup2.find_all('td',class_='table-body__cell nationality-logo rankings-table__team'):\n",
    "    num+=1\n",
    "    if num>9 :\n",
    "        break\n",
    "    Team.append(i.find('span',class_='table-body__logo-text').text)\n",
    "Team"
   ]
  },
  {
   "cell_type": "code",
   "execution_count": 21,
   "id": "cb4af73a",
   "metadata": {},
   "outputs": [
    {
     "data": {
      "text/plain": [
       "['384', '372', '365', '319', '299', '275', '274', '272', '272', '272']"
      ]
     },
     "execution_count": 21,
     "metadata": {},
     "output_type": "execute_result"
    }
   ],
   "source": [
    "Ranking=[]\n",
    "for i in soup.find_all('div',class_='rankings-block__banner--rating'):\n",
    "    Ranking.append(i.text)\n",
    "num=0\n",
    "for i in soup2.find_all('td',class_='table-body__cell rating'):\n",
    "    num+=1\n",
    "    if num>9 :\n",
    "        break\n",
    "    Ranking.append(i.text)\n",
    "Ranking"
   ]
  },
  {
   "cell_type": "code",
   "execution_count": 22,
   "id": "665c4462",
   "metadata": {},
   "outputs": [
    {
     "data": {
      "text/html": [
       "<div>\n",
       "<style scoped>\n",
       "    .dataframe tbody tr th:only-of-type {\n",
       "        vertical-align: middle;\n",
       "    }\n",
       "\n",
       "    .dataframe tbody tr th {\n",
       "        vertical-align: top;\n",
       "    }\n",
       "\n",
       "    .dataframe thead th {\n",
       "        text-align: right;\n",
       "    }\n",
       "</style>\n",
       "<table border=\"1\" class=\"dataframe\">\n",
       "  <thead>\n",
       "    <tr style=\"text-align: right;\">\n",
       "      <th></th>\n",
       "      <th>Name</th>\n",
       "      <th>Team</th>\n",
       "      <th>Ranking</th>\n",
       "    </tr>\n",
       "  </thead>\n",
       "  <tbody>\n",
       "    <tr>\n",
       "      <th>0</th>\n",
       "      <td>Marizanne Kapp</td>\n",
       "      <td>SA</td>\n",
       "      <td>384</td>\n",
       "    </tr>\n",
       "    <tr>\n",
       "      <th>1</th>\n",
       "      <td>Natalie Sciver</td>\n",
       "      <td>ENG</td>\n",
       "      <td>372</td>\n",
       "    </tr>\n",
       "    <tr>\n",
       "      <th>2</th>\n",
       "      <td>Ellyse Perry</td>\n",
       "      <td>AUS</td>\n",
       "      <td>365</td>\n",
       "    </tr>\n",
       "    <tr>\n",
       "      <th>3</th>\n",
       "      <td>Stafanie Taylor</td>\n",
       "      <td>WI</td>\n",
       "      <td>319</td>\n",
       "    </tr>\n",
       "    <tr>\n",
       "      <th>4</th>\n",
       "      <td>Deepti Sharma</td>\n",
       "      <td>IND</td>\n",
       "      <td>299</td>\n",
       "    </tr>\n",
       "    <tr>\n",
       "      <th>5</th>\n",
       "      <td>Ashleigh Gardner</td>\n",
       "      <td>AUS</td>\n",
       "      <td>275</td>\n",
       "    </tr>\n",
       "    <tr>\n",
       "      <th>6</th>\n",
       "      <td>Dane van Niekerk</td>\n",
       "      <td>SA</td>\n",
       "      <td>274</td>\n",
       "    </tr>\n",
       "    <tr>\n",
       "      <th>7</th>\n",
       "      <td>Hayley Matthews</td>\n",
       "      <td>WI</td>\n",
       "      <td>272</td>\n",
       "    </tr>\n",
       "    <tr>\n",
       "      <th>8</th>\n",
       "      <td>Jess Jonassen</td>\n",
       "      <td>AUS</td>\n",
       "      <td>272</td>\n",
       "    </tr>\n",
       "    <tr>\n",
       "      <th>9</th>\n",
       "      <td>Katherine Brunt</td>\n",
       "      <td>ENG</td>\n",
       "      <td>272</td>\n",
       "    </tr>\n",
       "  </tbody>\n",
       "</table>\n",
       "</div>"
      ],
      "text/plain": [
       "               Name Team Ranking\n",
       "0    Marizanne Kapp   SA     384\n",
       "1    Natalie Sciver  ENG     372\n",
       "2      Ellyse Perry  AUS     365\n",
       "3   Stafanie Taylor   WI     319\n",
       "4     Deepti Sharma  IND     299\n",
       "5  Ashleigh Gardner  AUS     275\n",
       "6  Dane van Niekerk   SA     274\n",
       "7   Hayley Matthews   WI     272\n",
       "8     Jess Jonassen  AUS     272\n",
       "9   Katherine Brunt  ENG     272"
      ]
     },
     "execution_count": 22,
     "metadata": {},
     "output_type": "execute_result"
    }
   ],
   "source": [
    "import pandas as pd\n",
    "df=pd.DataFrame({'Name':Name,'Team':Team,'Ranking':Ranking})\n",
    "df"
   ]
  },
  {
   "cell_type": "code",
   "execution_count": null,
   "id": "0eba041c",
   "metadata": {},
   "outputs": [],
   "source": []
  }
 ],
 "metadata": {
  "kernelspec": {
   "display_name": "Python 3",
   "language": "python",
   "name": "python3"
  },
  "language_info": {
   "codemirror_mode": {
    "name": "ipython",
    "version": 3
   },
   "file_extension": ".py",
   "mimetype": "text/x-python",
   "name": "python",
   "nbconvert_exporter": "python",
   "pygments_lexer": "ipython3",
   "version": "3.8.8"
  }
 },
 "nbformat": 4,
 "nbformat_minor": 5
}
